{
 "cells": [
  {
   "cell_type": "code",
   "execution_count": 14,
   "id": "7058a71d",
   "metadata": {},
   "outputs": [
    {
     "name": "stdout",
     "output_type": "stream",
     "text": [
      "arp not in VERSION\n",
      "arp not in VERSION_MAIN\n",
      "arp not in _SCAPY_PKG_DIR\n",
      "arp not in __all__\n",
      "arp not in __builtins__\n",
      "arp not in __cached__\n",
      "arp not in __doc__\n",
      "arp not in __file__\n",
      "arp not in __loader__\n",
      "arp not in __name__\n",
      "arp not in __package__\n",
      "arp not in __path__\n",
      "arp not in __spec__\n",
      "arp not in __version__\n",
      "arp not in _parse_tag\n",
      "arp not in _tmp\n",
      "arp not in _version\n",
      "arp not in _version_from_git_archive\n",
      "arp not in _version_from_git_describe\n",
      "all\n",
      "arp not in ansmachine\n",
      "arp not in arch\n",
      "arp not in as_resolvers\n",
      "arp not in asn1\n",
      "arp not in asn1fields\n",
      "arp not in asn1packet\n",
      "arp not in automaton\n",
      "arp not in autorun\n",
      "arp not in base_classes\n",
      "arp not in compat\n",
      "arp not in config\n",
      "arp not in consts\n",
      "arp not in contrib\n",
      "arp not in dadict\n",
      "arp not in data\n",
      "arp not in datetime\n",
      "arp not in error\n",
      "arp not in fields\n",
      "arp not in interfaces\n",
      "arp not in layers\n",
      "arp not in libs\n",
      "arp not in main\n",
      "arp not in os\n",
      "arp not in packet\n",
      "arp not in pipetool\n",
      "arp not in plist\n",
      "arp not in pton_ntop\n",
      "arp not in re\n",
      "arp not in route\n",
      "arp not in route6\n",
      "arp not in scapypipes\n",
      "arp not in sendrecv\n",
      "arp not in sessions\n",
      "arp not in subprocess\n",
      "arp not in supersocket\n",
      "arp not in themes\n",
      "arp not in utils\n",
      "arp not in utils6\n",
      "arp not in volatile\n"
     ]
    }
   ],
   "source": [
    "import scapy\n",
    "for x in dir(scapy):\n",
    "    if \"ARP\" in eval(f\"dir(scapy.{x})\"):\n",
    "        print(x)\n",
    "    else:\n",
    "        print(f\"arp not in {x}\")"
   ]
  },
  {
   "cell_type": "code",
   "execution_count": 3,
   "id": "49bd48b3",
   "metadata": {},
   "outputs": [
    {
     "ename": "PermissionError",
     "evalue": "[Errno 1] Operation not permitted",
     "output_type": "error",
     "traceback": [
      "\u001b[31m---------------------------------------------------------------------------\u001b[39m",
      "\u001b[31mPermissionError\u001b[39m                           Traceback (most recent call last)",
      "\u001b[36mCell\u001b[39m\u001b[36m \u001b[39m\u001b[32mIn[3]\u001b[39m\u001b[32m, line 10\u001b[39m\n\u001b[32m      7\u001b[39m broadcast.dst = \u001b[33m'\u001b[39m\u001b[33mff:ff:ff:ff:ff:ff\u001b[39m\u001b[33m'\u001b[39m\n\u001b[32m      9\u001b[39m request_broadcast = broadcast / request\n\u001b[32m---> \u001b[39m\u001b[32m10\u001b[39m clients = \u001b[43mscapy\u001b[49m\u001b[43m.\u001b[49m\u001b[43msrp\u001b[49m\u001b[43m(\u001b[49m\u001b[43mrequest_broadcast\u001b[49m\u001b[43m,\u001b[49m\u001b[43m \u001b[49m\u001b[43mtimeout\u001b[49m\u001b[43m \u001b[49m\u001b[43m=\u001b[49m\u001b[43m \u001b[49m\u001b[32;43m1\u001b[39;49m\u001b[43m)\u001b[49m[\u001b[32m0\u001b[39m]\n\u001b[32m     11\u001b[39m \u001b[38;5;28;01mfor\u001b[39;00m element \u001b[38;5;129;01min\u001b[39;00m clients:\n\u001b[32m     12\u001b[39m     \u001b[38;5;28mprint\u001b[39m(element[\u001b[32m1\u001b[39m].psrc + \u001b[33m\"\u001b[39m\u001b[33m      \u001b[39m\u001b[33m\"\u001b[39m + element[\u001b[32m1\u001b[39m].hwsrc)\n",
      "\u001b[36mFile \u001b[39m\u001b[32m~/.local/lib/python3.13/site-packages/scapy/sendrecv.py:756\u001b[39m, in \u001b[36msrp\u001b[39m\u001b[34m(x, promisc, iface, iface_hint, filter, nofilter, type, *args, **kargs)\u001b[39m\n\u001b[32m    754\u001b[39m     iface = conf.route.route(iface_hint)[\u001b[32m0\u001b[39m]\n\u001b[32m    755\u001b[39m iface = resolve_iface(iface \u001b[38;5;129;01mor\u001b[39;00m conf.iface)\n\u001b[32m--> \u001b[39m\u001b[32m756\u001b[39m s = \u001b[43miface\u001b[49m\u001b[43m.\u001b[49m\u001b[43ml2socket\u001b[49m\u001b[43m(\u001b[49m\u001b[43m)\u001b[49m\u001b[43m(\u001b[49m\u001b[43mpromisc\u001b[49m\u001b[43m=\u001b[49m\u001b[43mpromisc\u001b[49m\u001b[43m,\u001b[49m\u001b[43m \u001b[49m\u001b[43miface\u001b[49m\u001b[43m=\u001b[49m\u001b[43miface\u001b[49m\u001b[43m,\u001b[49m\n\u001b[32m    757\u001b[39m \u001b[43m                     \u001b[49m\u001b[38;5;28;43mfilter\u001b[39;49m\u001b[43m=\u001b[49m\u001b[38;5;28;43mfilter\u001b[39;49m\u001b[43m,\u001b[49m\u001b[43m \u001b[49m\u001b[43mnofilter\u001b[49m\u001b[43m=\u001b[49m\u001b[43mnofilter\u001b[49m\u001b[43m,\u001b[49m\u001b[43m \u001b[49m\u001b[38;5;28;43mtype\u001b[39;49m\u001b[43m=\u001b[49m\u001b[38;5;28;43mtype\u001b[39;49m\u001b[43m)\u001b[49m\n\u001b[32m    758\u001b[39m result = sndrcv(s, x, *args, **kargs)\n\u001b[32m    759\u001b[39m s.close()\n",
      "\u001b[36mFile \u001b[39m\u001b[32m~/.local/lib/python3.13/site-packages/scapy/arch/linux/__init__.py:218\u001b[39m, in \u001b[36mL2Socket.__init__\u001b[39m\u001b[34m(self, iface, type, promisc, filter, nofilter, monitor)\u001b[39m\n\u001b[32m    216\u001b[39m \u001b[38;5;28mself\u001b[39m.type = \u001b[38;5;28mtype\u001b[39m\n\u001b[32m    217\u001b[39m \u001b[38;5;28mself\u001b[39m.promisc = conf.sniff_promisc \u001b[38;5;28;01mif\u001b[39;00m promisc \u001b[38;5;129;01mis\u001b[39;00m \u001b[38;5;28;01mNone\u001b[39;00m \u001b[38;5;28;01melse\u001b[39;00m promisc\n\u001b[32m--> \u001b[39m\u001b[32m218\u001b[39m \u001b[38;5;28mself\u001b[39m.ins = \u001b[43msocket\u001b[49m\u001b[43m.\u001b[49m\u001b[43msocket\u001b[49m\u001b[43m(\u001b[49m\n\u001b[32m    219\u001b[39m \u001b[43m    \u001b[49m\u001b[43msocket\u001b[49m\u001b[43m.\u001b[49m\u001b[43mAF_PACKET\u001b[49m\u001b[43m,\u001b[49m\u001b[43m \u001b[49m\u001b[43msocket\u001b[49m\u001b[43m.\u001b[49m\u001b[43mSOCK_RAW\u001b[49m\u001b[43m,\u001b[49m\u001b[43m \u001b[49m\u001b[43msocket\u001b[49m\u001b[43m.\u001b[49m\u001b[43mhtons\u001b[49m\u001b[43m(\u001b[49m\u001b[38;5;28;43mtype\u001b[39;49m\u001b[43m)\u001b[49m\u001b[43m)\u001b[49m\n\u001b[32m    220\u001b[39m \u001b[38;5;28mself\u001b[39m.ins.setsockopt(socket.SOL_SOCKET, socket.SO_RCVBUF, \u001b[32m0\u001b[39m)\n\u001b[32m    221\u001b[39m \u001b[38;5;28;01mif\u001b[39;00m \u001b[38;5;129;01mnot\u001b[39;00m nofilter:\n",
      "\u001b[36mFile \u001b[39m\u001b[32m/usr/lib64/python3.13/socket.py:233\u001b[39m, in \u001b[36msocket.__init__\u001b[39m\u001b[34m(self, family, type, proto, fileno)\u001b[39m\n\u001b[32m    231\u001b[39m     \u001b[38;5;28;01mif\u001b[39;00m proto == -\u001b[32m1\u001b[39m:\n\u001b[32m    232\u001b[39m         proto = \u001b[32m0\u001b[39m\n\u001b[32m--> \u001b[39m\u001b[32m233\u001b[39m \u001b[43m_socket\u001b[49m\u001b[43m.\u001b[49m\u001b[43msocket\u001b[49m\u001b[43m.\u001b[49m\u001b[34;43m__init__\u001b[39;49m\u001b[43m(\u001b[49m\u001b[38;5;28;43mself\u001b[39;49m\u001b[43m,\u001b[49m\u001b[43m \u001b[49m\u001b[43mfamily\u001b[49m\u001b[43m,\u001b[49m\u001b[43m \u001b[49m\u001b[38;5;28;43mtype\u001b[39;49m\u001b[43m,\u001b[49m\u001b[43m \u001b[49m\u001b[43mproto\u001b[49m\u001b[43m,\u001b[49m\u001b[43m \u001b[49m\u001b[43mfileno\u001b[49m\u001b[43m)\u001b[49m\n\u001b[32m    234\u001b[39m \u001b[38;5;28mself\u001b[39m._io_refs = \u001b[32m0\u001b[39m\n\u001b[32m    235\u001b[39m \u001b[38;5;28mself\u001b[39m._closed = \u001b[38;5;28;01mFalse\u001b[39;00m\n",
      "\u001b[31mPermissionError\u001b[39m: [Errno 1] Operation not permitted"
     ]
    }
   ],
   "source": [
    "import scapy.all as scapy\n",
    "request = scapy.ARP()\n",
    "\n",
    "request.pdst = 'x'\n",
    "broadcast = scapy.Ether()\n",
    "\n",
    "broadcast.dst = 'ff:ff:ff:ff:ff:ff'\n",
    "\n",
    "request_broadcast = broadcast / request\n",
    "clients = scapy.srp(request_broadcast, timeout = 1)[0]\n",
    "for element in clients:\n",
    "    print(element[1].psrc + \"      \" + element[1].hwsrc)\n"
   ]
  }
 ],
 "metadata": {
  "kernelspec": {
   "display_name": "Python 3",
   "language": "python",
   "name": "python3"
  },
  "language_info": {
   "codemirror_mode": {
    "name": "ipython",
    "version": 3
   },
   "file_extension": ".py",
   "mimetype": "text/x-python",
   "name": "python",
   "nbconvert_exporter": "python",
   "pygments_lexer": "ipython3",
   "version": "3.13.5"
  }
 },
 "nbformat": 4,
 "nbformat_minor": 5
}
